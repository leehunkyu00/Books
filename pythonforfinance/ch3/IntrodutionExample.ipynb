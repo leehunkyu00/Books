{
 "cells": [
  {
   "cell_type": "code",
   "execution_count": 1,
   "metadata": {},
   "outputs": [],
   "source": [
    "import warnings\n",
    "warnings.simplefilter('ignore')"
   ]
  },
  {
   "cell_type": "code",
   "execution_count": 2,
   "metadata": {},
   "outputs": [],
   "source": [
    "V0 = 17.6639"
   ]
  },
  {
   "cell_type": "code",
   "execution_count": 3,
   "metadata": {},
   "outputs": [],
   "source": [
    "r = 0.01"
   ]
  },
  {
   "cell_type": "code",
   "execution_count": 4,
   "metadata": {},
   "outputs": [],
   "source": [
    "import pandas as pd\n",
    "h5 = pd.HDFStore('./source/vstoxx_data_31032014.h5', 'r')\n",
    "futures_data = h5['futures_data'] # VSTOXX futures data\n",
    "options_data = h5['options_data'] # VSTOXX call option data\n",
    "h5.close()"
   ]
  },
  {
   "cell_type": "code",
   "execution_count": 5,
   "metadata": {},
   "outputs": [],
   "source": [
    "# 날자를 바꿔주는 코드 (MATURITY)\n",
    "import datetime as dt\n",
    "futures_data['DATE'] = futures_data['DATE'].apply(lambda x: dt.datetime.fromtimestamp(x / 1e9))\n",
    "futures_data['MATURITY'] = futures_data['MATURITY'].apply(lambda x: dt.datetime.fromtimestamp(x / 1e9))\n",
    "\n",
    "options_data['DATE'] = options_data['DATE'].apply(lambda x: dt.datetime.fromtimestamp(x / 1e9))\n",
    "options_data['MATURITY'] = options_data['MATURITY'].apply(lambda x: dt.datetime.fromtimestamp(x / 1e9))"
   ]
  },
  {
   "cell_type": "code",
   "execution_count": 6,
   "metadata": {
    "scrolled": true
   },
   "outputs": [
    {
     "data": {
      "text/html": [
       "<div>\n",
       "<style scoped>\n",
       "    .dataframe tbody tr th:only-of-type {\n",
       "        vertical-align: middle;\n",
       "    }\n",
       "\n",
       "    .dataframe tbody tr th {\n",
       "        vertical-align: top;\n",
       "    }\n",
       "\n",
       "    .dataframe thead th {\n",
       "        text-align: right;\n",
       "    }\n",
       "</style>\n",
       "<table border=\"1\" class=\"dataframe\">\n",
       "  <thead>\n",
       "    <tr style=\"text-align: right;\">\n",
       "      <th></th>\n",
       "      <th>DATE</th>\n",
       "      <th>EXP_YEAR</th>\n",
       "      <th>EXP_MONTH</th>\n",
       "      <th>PRICE</th>\n",
       "      <th>MATURITY</th>\n",
       "      <th>TTM</th>\n",
       "    </tr>\n",
       "  </thead>\n",
       "  <tbody>\n",
       "    <tr>\n",
       "      <th>496</th>\n",
       "      <td>2014-03-31 09:00:00</td>\n",
       "      <td>2014</td>\n",
       "      <td>4</td>\n",
       "      <td>17.85</td>\n",
       "      <td>2014-04-18 09:00:00</td>\n",
       "      <td>0.049</td>\n",
       "    </tr>\n",
       "    <tr>\n",
       "      <th>497</th>\n",
       "      <td>2014-03-31 09:00:00</td>\n",
       "      <td>2014</td>\n",
       "      <td>5</td>\n",
       "      <td>19.55</td>\n",
       "      <td>2014-05-16 09:00:00</td>\n",
       "      <td>0.126</td>\n",
       "    </tr>\n",
       "    <tr>\n",
       "      <th>498</th>\n",
       "      <td>2014-03-31 09:00:00</td>\n",
       "      <td>2014</td>\n",
       "      <td>6</td>\n",
       "      <td>19.95</td>\n",
       "      <td>2014-06-20 09:00:00</td>\n",
       "      <td>0.222</td>\n",
       "    </tr>\n",
       "    <tr>\n",
       "      <th>499</th>\n",
       "      <td>2014-03-31 09:00:00</td>\n",
       "      <td>2014</td>\n",
       "      <td>7</td>\n",
       "      <td>20.40</td>\n",
       "      <td>2014-07-18 09:00:00</td>\n",
       "      <td>0.299</td>\n",
       "    </tr>\n",
       "    <tr>\n",
       "      <th>500</th>\n",
       "      <td>2014-03-31 09:00:00</td>\n",
       "      <td>2014</td>\n",
       "      <td>8</td>\n",
       "      <td>20.70</td>\n",
       "      <td>2014-08-15 09:00:00</td>\n",
       "      <td>0.375</td>\n",
       "    </tr>\n",
       "    <tr>\n",
       "      <th>501</th>\n",
       "      <td>2014-03-31 09:00:00</td>\n",
       "      <td>2014</td>\n",
       "      <td>9</td>\n",
       "      <td>20.95</td>\n",
       "      <td>2014-09-19 09:00:00</td>\n",
       "      <td>0.471</td>\n",
       "    </tr>\n",
       "    <tr>\n",
       "      <th>502</th>\n",
       "      <td>2014-03-31 09:00:00</td>\n",
       "      <td>2014</td>\n",
       "      <td>10</td>\n",
       "      <td>21.05</td>\n",
       "      <td>2014-10-17 09:00:00</td>\n",
       "      <td>0.548</td>\n",
       "    </tr>\n",
       "    <tr>\n",
       "      <th>503</th>\n",
       "      <td>2014-03-31 09:00:00</td>\n",
       "      <td>2014</td>\n",
       "      <td>11</td>\n",
       "      <td>21.25</td>\n",
       "      <td>2014-11-21 09:00:00</td>\n",
       "      <td>0.644</td>\n",
       "    </tr>\n",
       "  </tbody>\n",
       "</table>\n",
       "</div>"
      ],
      "text/plain": [
       "                   DATE  EXP_YEAR  EXP_MONTH  PRICE            MATURITY    TTM\n",
       "496 2014-03-31 09:00:00      2014          4  17.85 2014-04-18 09:00:00  0.049\n",
       "497 2014-03-31 09:00:00      2014          5  19.55 2014-05-16 09:00:00  0.126\n",
       "498 2014-03-31 09:00:00      2014          6  19.95 2014-06-20 09:00:00  0.222\n",
       "499 2014-03-31 09:00:00      2014          7  20.40 2014-07-18 09:00:00  0.299\n",
       "500 2014-03-31 09:00:00      2014          8  20.70 2014-08-15 09:00:00  0.375\n",
       "501 2014-03-31 09:00:00      2014          9  20.95 2014-09-19 09:00:00  0.471\n",
       "502 2014-03-31 09:00:00      2014         10  21.05 2014-10-17 09:00:00  0.548\n",
       "503 2014-03-31 09:00:00      2014         11  21.25 2014-11-21 09:00:00  0.644"
      ]
     },
     "execution_count": 6,
     "metadata": {},
     "output_type": "execute_result"
    }
   ],
   "source": [
    "futures_data"
   ]
  },
  {
   "cell_type": "code",
   "execution_count": 7,
   "metadata": {},
   "outputs": [
    {
     "name": "stdout",
     "output_type": "stream",
     "text": [
      "<class 'pandas.core.frame.DataFrame'>\n",
      "Int64Index: 395 entries, 46170 to 46564\n",
      "Data columns (total 8 columns):\n",
      "DATE         395 non-null datetime64[ns]\n",
      "EXP_YEAR     395 non-null int64\n",
      "EXP_MONTH    395 non-null int64\n",
      "TYPE         395 non-null object\n",
      "STRIKE       395 non-null float64\n",
      "PRICE        395 non-null float64\n",
      "MATURITY     395 non-null datetime64[ns]\n",
      "TTM          395 non-null float64\n",
      "dtypes: datetime64[ns](2), float64(3), int64(2), object(1)\n",
      "memory usage: 27.8+ KB\n"
     ]
    }
   ],
   "source": [
    "options_data.info()"
   ]
  },
  {
   "cell_type": "code",
   "execution_count": 8,
   "metadata": {
    "scrolled": true
   },
   "outputs": [
    {
     "data": {
      "text/html": [
       "<div>\n",
       "<style scoped>\n",
       "    .dataframe tbody tr th:only-of-type {\n",
       "        vertical-align: middle;\n",
       "    }\n",
       "\n",
       "    .dataframe tbody tr th {\n",
       "        vertical-align: top;\n",
       "    }\n",
       "\n",
       "    .dataframe thead th {\n",
       "        text-align: right;\n",
       "    }\n",
       "</style>\n",
       "<table border=\"1\" class=\"dataframe\">\n",
       "  <thead>\n",
       "    <tr style=\"text-align: right;\">\n",
       "      <th></th>\n",
       "      <th>DATE</th>\n",
       "      <th>MATURITY</th>\n",
       "      <th>TTM</th>\n",
       "      <th>STRIKE</th>\n",
       "      <th>PRICE</th>\n",
       "    </tr>\n",
       "  </thead>\n",
       "  <tbody>\n",
       "    <tr>\n",
       "      <th>46170</th>\n",
       "      <td>2014-03-31 09:00:00</td>\n",
       "      <td>2014-04-18 09:00:00</td>\n",
       "      <td>0.049</td>\n",
       "      <td>1.0</td>\n",
       "      <td>16.85</td>\n",
       "    </tr>\n",
       "    <tr>\n",
       "      <th>46171</th>\n",
       "      <td>2014-03-31 09:00:00</td>\n",
       "      <td>2014-04-18 09:00:00</td>\n",
       "      <td>0.049</td>\n",
       "      <td>2.0</td>\n",
       "      <td>15.85</td>\n",
       "    </tr>\n",
       "    <tr>\n",
       "      <th>46172</th>\n",
       "      <td>2014-03-31 09:00:00</td>\n",
       "      <td>2014-04-18 09:00:00</td>\n",
       "      <td>0.049</td>\n",
       "      <td>3.0</td>\n",
       "      <td>14.85</td>\n",
       "    </tr>\n",
       "    <tr>\n",
       "      <th>46173</th>\n",
       "      <td>2014-03-31 09:00:00</td>\n",
       "      <td>2014-04-18 09:00:00</td>\n",
       "      <td>0.049</td>\n",
       "      <td>4.0</td>\n",
       "      <td>13.85</td>\n",
       "    </tr>\n",
       "    <tr>\n",
       "      <th>46174</th>\n",
       "      <td>2014-03-31 09:00:00</td>\n",
       "      <td>2014-04-18 09:00:00</td>\n",
       "      <td>0.049</td>\n",
       "      <td>5.0</td>\n",
       "      <td>12.85</td>\n",
       "    </tr>\n",
       "  </tbody>\n",
       "</table>\n",
       "</div>"
      ],
      "text/plain": [
       "                     DATE            MATURITY    TTM  STRIKE  PRICE\n",
       "46170 2014-03-31 09:00:00 2014-04-18 09:00:00  0.049     1.0  16.85\n",
       "46171 2014-03-31 09:00:00 2014-04-18 09:00:00  0.049     2.0  15.85\n",
       "46172 2014-03-31 09:00:00 2014-04-18 09:00:00  0.049     3.0  14.85\n",
       "46173 2014-03-31 09:00:00 2014-04-18 09:00:00  0.049     4.0  13.85\n",
       "46174 2014-03-31 09:00:00 2014-04-18 09:00:00  0.049     5.0  12.85"
      ]
     },
     "execution_count": 8,
     "metadata": {},
     "output_type": "execute_result"
    }
   ],
   "source": [
    "options_data[['DATE', 'MATURITY', 'TTM', 'STRIKE', 'PRICE']].head()"
   ]
  },
  {
   "cell_type": "code",
   "execution_count": 9,
   "metadata": {},
   "outputs": [],
   "source": [
    "# 내재 변동성을 저장할 새로운 열\n",
    "options_data['IMP_VOL'] = 0.0"
   ]
  },
  {
   "cell_type": "code",
   "execution_count": 10,
   "metadata": {},
   "outputs": [],
   "source": [
    "from bsm_functions import *"
   ]
  },
  {
   "cell_type": "code",
   "execution_count": 11,
   "metadata": {},
   "outputs": [],
   "source": [
    "# 내재 변동성을 계산하는 부분\n",
    "tol = 0.5 # 머니니스 범위\n",
    "for option in options_data.index:\n",
    "    # 모든 옵션 시장가에 대해 반복\n",
    "    forward = futures_data[futures_data['MATURITY'] == \\\n",
    "                          options_data.loc[option]['MATURITY']]['PRICE'].values[0]\n",
    "    \n",
    "    # 옵션과 만기가 일치하는 선물 선택\n",
    "    if (forward * (1 - tol) < options_data.loc[option]['STRIKE'] < forward * (1 + tol)):\n",
    "        # 머니니스 범위 내의 옵션만 선택\n",
    "        imp_vol = bsm_call_imp_vol(\n",
    "            V0, # VSTOXX 지수값\n",
    "            options_data.loc[option]['STRIKE'],\n",
    "            options_data.loc[option]['TTM'],\n",
    "            r, # 단기 이자율\n",
    "            options_data.loc[option]['PRICE'],\n",
    "            sigma_est=2., # 내재 변동성의 초기 추정치\n",
    "            it=100)\n",
    "        options_data['IMP_VOL'].loc[option] = imp_vol"
   ]
  },
  {
   "cell_type": "code",
   "execution_count": 12,
   "metadata": {
    "scrolled": true
   },
   "outputs": [
    {
     "data": {
      "text/html": [
       "<div>\n",
       "<style scoped>\n",
       "    .dataframe tbody tr th:only-of-type {\n",
       "        vertical-align: middle;\n",
       "    }\n",
       "\n",
       "    .dataframe tbody tr th {\n",
       "        vertical-align: top;\n",
       "    }\n",
       "\n",
       "    .dataframe thead th {\n",
       "        text-align: right;\n",
       "    }\n",
       "</style>\n",
       "<table border=\"1\" class=\"dataframe\">\n",
       "  <thead>\n",
       "    <tr style=\"text-align: right;\">\n",
       "      <th></th>\n",
       "      <th>DATE</th>\n",
       "      <th>EXP_YEAR</th>\n",
       "      <th>EXP_MONTH</th>\n",
       "      <th>TYPE</th>\n",
       "      <th>STRIKE</th>\n",
       "      <th>PRICE</th>\n",
       "      <th>MATURITY</th>\n",
       "      <th>TTM</th>\n",
       "      <th>IMP_VOL</th>\n",
       "    </tr>\n",
       "  </thead>\n",
       "  <tbody>\n",
       "    <tr>\n",
       "      <th>46170</th>\n",
       "      <td>2014-03-31 09:00:00</td>\n",
       "      <td>2014</td>\n",
       "      <td>4</td>\n",
       "      <td>C</td>\n",
       "      <td>1.0</td>\n",
       "      <td>16.85</td>\n",
       "      <td>2014-04-18 09:00:00</td>\n",
       "      <td>0.049</td>\n",
       "      <td>0.000000</td>\n",
       "    </tr>\n",
       "    <tr>\n",
       "      <th>46171</th>\n",
       "      <td>2014-03-31 09:00:00</td>\n",
       "      <td>2014</td>\n",
       "      <td>4</td>\n",
       "      <td>C</td>\n",
       "      <td>2.0</td>\n",
       "      <td>15.85</td>\n",
       "      <td>2014-04-18 09:00:00</td>\n",
       "      <td>0.049</td>\n",
       "      <td>0.000000</td>\n",
       "    </tr>\n",
       "    <tr>\n",
       "      <th>46172</th>\n",
       "      <td>2014-03-31 09:00:00</td>\n",
       "      <td>2014</td>\n",
       "      <td>4</td>\n",
       "      <td>C</td>\n",
       "      <td>3.0</td>\n",
       "      <td>14.85</td>\n",
       "      <td>2014-04-18 09:00:00</td>\n",
       "      <td>0.049</td>\n",
       "      <td>0.000000</td>\n",
       "    </tr>\n",
       "    <tr>\n",
       "      <th>46173</th>\n",
       "      <td>2014-03-31 09:00:00</td>\n",
       "      <td>2014</td>\n",
       "      <td>4</td>\n",
       "      <td>C</td>\n",
       "      <td>4.0</td>\n",
       "      <td>13.85</td>\n",
       "      <td>2014-04-18 09:00:00</td>\n",
       "      <td>0.049</td>\n",
       "      <td>0.000000</td>\n",
       "    </tr>\n",
       "    <tr>\n",
       "      <th>46174</th>\n",
       "      <td>2014-03-31 09:00:00</td>\n",
       "      <td>2014</td>\n",
       "      <td>4</td>\n",
       "      <td>C</td>\n",
       "      <td>5.0</td>\n",
       "      <td>12.85</td>\n",
       "      <td>2014-04-18 09:00:00</td>\n",
       "      <td>0.049</td>\n",
       "      <td>0.000000</td>\n",
       "    </tr>\n",
       "    <tr>\n",
       "      <th>46175</th>\n",
       "      <td>2014-03-31 09:00:00</td>\n",
       "      <td>2014</td>\n",
       "      <td>4</td>\n",
       "      <td>C</td>\n",
       "      <td>6.0</td>\n",
       "      <td>11.85</td>\n",
       "      <td>2014-04-18 09:00:00</td>\n",
       "      <td>0.049</td>\n",
       "      <td>0.000000</td>\n",
       "    </tr>\n",
       "    <tr>\n",
       "      <th>46176</th>\n",
       "      <td>2014-03-31 09:00:00</td>\n",
       "      <td>2014</td>\n",
       "      <td>4</td>\n",
       "      <td>C</td>\n",
       "      <td>7.0</td>\n",
       "      <td>10.85</td>\n",
       "      <td>2014-04-18 09:00:00</td>\n",
       "      <td>0.049</td>\n",
       "      <td>0.000000</td>\n",
       "    </tr>\n",
       "    <tr>\n",
       "      <th>46177</th>\n",
       "      <td>2014-03-31 09:00:00</td>\n",
       "      <td>2014</td>\n",
       "      <td>4</td>\n",
       "      <td>C</td>\n",
       "      <td>8.0</td>\n",
       "      <td>9.85</td>\n",
       "      <td>2014-04-18 09:00:00</td>\n",
       "      <td>0.049</td>\n",
       "      <td>0.000000</td>\n",
       "    </tr>\n",
       "    <tr>\n",
       "      <th>46178</th>\n",
       "      <td>2014-03-31 09:00:00</td>\n",
       "      <td>2014</td>\n",
       "      <td>4</td>\n",
       "      <td>C</td>\n",
       "      <td>9.0</td>\n",
       "      <td>8.85</td>\n",
       "      <td>2014-04-18 09:00:00</td>\n",
       "      <td>0.049</td>\n",
       "      <td>2.083386</td>\n",
       "    </tr>\n",
       "    <tr>\n",
       "      <th>46179</th>\n",
       "      <td>2014-03-31 09:00:00</td>\n",
       "      <td>2014</td>\n",
       "      <td>4</td>\n",
       "      <td>C</td>\n",
       "      <td>10.0</td>\n",
       "      <td>7.85</td>\n",
       "      <td>2014-04-18 09:00:00</td>\n",
       "      <td>0.049</td>\n",
       "      <td>1.804194</td>\n",
       "    </tr>\n",
       "    <tr>\n",
       "      <th>46180</th>\n",
       "      <td>2014-03-31 09:00:00</td>\n",
       "      <td>2014</td>\n",
       "      <td>4</td>\n",
       "      <td>C</td>\n",
       "      <td>11.0</td>\n",
       "      <td>6.85</td>\n",
       "      <td>2014-04-18 09:00:00</td>\n",
       "      <td>0.049</td>\n",
       "      <td>1.550283</td>\n",
       "    </tr>\n",
       "    <tr>\n",
       "      <th>46181</th>\n",
       "      <td>2014-03-31 09:00:00</td>\n",
       "      <td>2014</td>\n",
       "      <td>4</td>\n",
       "      <td>C</td>\n",
       "      <td>12.0</td>\n",
       "      <td>5.85</td>\n",
       "      <td>2014-04-18 09:00:00</td>\n",
       "      <td>0.049</td>\n",
       "      <td>1.316103</td>\n",
       "    </tr>\n",
       "    <tr>\n",
       "      <th>46182</th>\n",
       "      <td>2014-03-31 09:00:00</td>\n",
       "      <td>2014</td>\n",
       "      <td>4</td>\n",
       "      <td>C</td>\n",
       "      <td>13.0</td>\n",
       "      <td>4.85</td>\n",
       "      <td>2014-04-18 09:00:00</td>\n",
       "      <td>0.049</td>\n",
       "      <td>1.097184</td>\n",
       "    </tr>\n",
       "    <tr>\n",
       "      <th>46183</th>\n",
       "      <td>2014-03-31 09:00:00</td>\n",
       "      <td>2014</td>\n",
       "      <td>4</td>\n",
       "      <td>C</td>\n",
       "      <td>14.0</td>\n",
       "      <td>3.85</td>\n",
       "      <td>2014-04-18 09:00:00</td>\n",
       "      <td>0.049</td>\n",
       "      <td>0.889581</td>\n",
       "    </tr>\n",
       "    <tr>\n",
       "      <th>46184</th>\n",
       "      <td>2014-03-31 09:00:00</td>\n",
       "      <td>2014</td>\n",
       "      <td>4</td>\n",
       "      <td>C</td>\n",
       "      <td>15.0</td>\n",
       "      <td>2.90</td>\n",
       "      <td>2014-04-18 09:00:00</td>\n",
       "      <td>0.049</td>\n",
       "      <td>0.748630</td>\n",
       "    </tr>\n",
       "    <tr>\n",
       "      <th>46185</th>\n",
       "      <td>2014-03-31 09:00:00</td>\n",
       "      <td>2014</td>\n",
       "      <td>4</td>\n",
       "      <td>C</td>\n",
       "      <td>16.0</td>\n",
       "      <td>2.00</td>\n",
       "      <td>2014-04-18 09:00:00</td>\n",
       "      <td>0.049</td>\n",
       "      <td>0.630958</td>\n",
       "    </tr>\n",
       "    <tr>\n",
       "      <th>46186</th>\n",
       "      <td>2014-03-31 09:00:00</td>\n",
       "      <td>2014</td>\n",
       "      <td>4</td>\n",
       "      <td>C</td>\n",
       "      <td>17.0</td>\n",
       "      <td>1.35</td>\n",
       "      <td>2014-04-18 09:00:00</td>\n",
       "      <td>0.049</td>\n",
       "      <td>0.639297</td>\n",
       "    </tr>\n",
       "    <tr>\n",
       "      <th>46187</th>\n",
       "      <td>2014-03-31 09:00:00</td>\n",
       "      <td>2014</td>\n",
       "      <td>4</td>\n",
       "      <td>C</td>\n",
       "      <td>18.0</td>\n",
       "      <td>0.95</td>\n",
       "      <td>2014-04-18 09:00:00</td>\n",
       "      <td>0.049</td>\n",
       "      <td>0.703208</td>\n",
       "    </tr>\n",
       "    <tr>\n",
       "      <th>46188</th>\n",
       "      <td>2014-03-31 09:00:00</td>\n",
       "      <td>2014</td>\n",
       "      <td>4</td>\n",
       "      <td>C</td>\n",
       "      <td>19.0</td>\n",
       "      <td>0.70</td>\n",
       "      <td>2014-04-18 09:00:00</td>\n",
       "      <td>0.049</td>\n",
       "      <td>0.775629</td>\n",
       "    </tr>\n",
       "    <tr>\n",
       "      <th>46189</th>\n",
       "      <td>2014-03-31 09:00:00</td>\n",
       "      <td>2014</td>\n",
       "      <td>4</td>\n",
       "      <td>C</td>\n",
       "      <td>20.0</td>\n",
       "      <td>0.50</td>\n",
       "      <td>2014-04-18 09:00:00</td>\n",
       "      <td>0.049</td>\n",
       "      <td>0.818813</td>\n",
       "    </tr>\n",
       "    <tr>\n",
       "      <th>46190</th>\n",
       "      <td>2014-03-31 09:00:00</td>\n",
       "      <td>2014</td>\n",
       "      <td>4</td>\n",
       "      <td>C</td>\n",
       "      <td>21.0</td>\n",
       "      <td>0.40</td>\n",
       "      <td>2014-04-18 09:00:00</td>\n",
       "      <td>0.049</td>\n",
       "      <td>0.892494</td>\n",
       "    </tr>\n",
       "    <tr>\n",
       "      <th>46191</th>\n",
       "      <td>2014-03-31 09:00:00</td>\n",
       "      <td>2014</td>\n",
       "      <td>4</td>\n",
       "      <td>C</td>\n",
       "      <td>22.0</td>\n",
       "      <td>0.35</td>\n",
       "      <td>2014-04-18 09:00:00</td>\n",
       "      <td>0.049</td>\n",
       "      <td>0.981551</td>\n",
       "    </tr>\n",
       "    <tr>\n",
       "      <th>46192</th>\n",
       "      <td>2014-03-31 09:00:00</td>\n",
       "      <td>2014</td>\n",
       "      <td>4</td>\n",
       "      <td>C</td>\n",
       "      <td>23.0</td>\n",
       "      <td>0.25</td>\n",
       "      <td>2014-04-18 09:00:00</td>\n",
       "      <td>0.049</td>\n",
       "      <td>0.995124</td>\n",
       "    </tr>\n",
       "    <tr>\n",
       "      <th>46193</th>\n",
       "      <td>2014-03-31 09:00:00</td>\n",
       "      <td>2014</td>\n",
       "      <td>4</td>\n",
       "      <td>C</td>\n",
       "      <td>24.0</td>\n",
       "      <td>0.25</td>\n",
       "      <td>2014-04-18 09:00:00</td>\n",
       "      <td>0.049</td>\n",
       "      <td>1.101613</td>\n",
       "    </tr>\n",
       "    <tr>\n",
       "      <th>46194</th>\n",
       "      <td>2014-03-31 09:00:00</td>\n",
       "      <td>2014</td>\n",
       "      <td>4</td>\n",
       "      <td>C</td>\n",
       "      <td>25.0</td>\n",
       "      <td>0.20</td>\n",
       "      <td>2014-04-18 09:00:00</td>\n",
       "      <td>0.049</td>\n",
       "      <td>1.133795</td>\n",
       "    </tr>\n",
       "    <tr>\n",
       "      <th>46195</th>\n",
       "      <td>2014-03-31 09:00:00</td>\n",
       "      <td>2014</td>\n",
       "      <td>4</td>\n",
       "      <td>C</td>\n",
       "      <td>26.0</td>\n",
       "      <td>0.15</td>\n",
       "      <td>2014-04-18 09:00:00</td>\n",
       "      <td>0.049</td>\n",
       "      <td>1.144977</td>\n",
       "    </tr>\n",
       "    <tr>\n",
       "      <th>46196</th>\n",
       "      <td>2014-03-31 09:00:00</td>\n",
       "      <td>2014</td>\n",
       "      <td>4</td>\n",
       "      <td>C</td>\n",
       "      <td>27.0</td>\n",
       "      <td>0.15</td>\n",
       "      <td>2014-04-18 09:00:00</td>\n",
       "      <td>0.049</td>\n",
       "      <td>0.000000</td>\n",
       "    </tr>\n",
       "    <tr>\n",
       "      <th>46197</th>\n",
       "      <td>2014-03-31 09:00:00</td>\n",
       "      <td>2014</td>\n",
       "      <td>4</td>\n",
       "      <td>C</td>\n",
       "      <td>28.0</td>\n",
       "      <td>0.15</td>\n",
       "      <td>2014-04-18 09:00:00</td>\n",
       "      <td>0.049</td>\n",
       "      <td>0.000000</td>\n",
       "    </tr>\n",
       "    <tr>\n",
       "      <th>46198</th>\n",
       "      <td>2014-03-31 09:00:00</td>\n",
       "      <td>2014</td>\n",
       "      <td>4</td>\n",
       "      <td>C</td>\n",
       "      <td>29.0</td>\n",
       "      <td>0.10</td>\n",
       "      <td>2014-04-18 09:00:00</td>\n",
       "      <td>0.049</td>\n",
       "      <td>0.000000</td>\n",
       "    </tr>\n",
       "    <tr>\n",
       "      <th>46199</th>\n",
       "      <td>2014-03-31 09:00:00</td>\n",
       "      <td>2014</td>\n",
       "      <td>4</td>\n",
       "      <td>C</td>\n",
       "      <td>30.0</td>\n",
       "      <td>0.10</td>\n",
       "      <td>2014-04-18 09:00:00</td>\n",
       "      <td>0.049</td>\n",
       "      <td>0.000000</td>\n",
       "    </tr>\n",
       "    <tr>\n",
       "      <th>...</th>\n",
       "      <td>...</td>\n",
       "      <td>...</td>\n",
       "      <td>...</td>\n",
       "      <td>...</td>\n",
       "      <td>...</td>\n",
       "      <td>...</td>\n",
       "      <td>...</td>\n",
       "      <td>...</td>\n",
       "      <td>...</td>\n",
       "    </tr>\n",
       "    <tr>\n",
       "      <th>46535</th>\n",
       "      <td>2014-03-31 09:00:00</td>\n",
       "      <td>2014</td>\n",
       "      <td>11</td>\n",
       "      <td>C</td>\n",
       "      <td>20.0</td>\n",
       "      <td>3.70</td>\n",
       "      <td>2014-11-21 09:00:00</td>\n",
       "      <td>0.644</td>\n",
       "      <td>0.800333</td>\n",
       "    </tr>\n",
       "    <tr>\n",
       "      <th>46536</th>\n",
       "      <td>2014-03-31 09:00:00</td>\n",
       "      <td>2014</td>\n",
       "      <td>11</td>\n",
       "      <td>C</td>\n",
       "      <td>21.0</td>\n",
       "      <td>3.35</td>\n",
       "      <td>2014-11-21 09:00:00</td>\n",
       "      <td>0.644</td>\n",
       "      <td>0.790023</td>\n",
       "    </tr>\n",
       "    <tr>\n",
       "      <th>46537</th>\n",
       "      <td>2014-03-31 09:00:00</td>\n",
       "      <td>2014</td>\n",
       "      <td>11</td>\n",
       "      <td>C</td>\n",
       "      <td>22.0</td>\n",
       "      <td>3.05</td>\n",
       "      <td>2014-11-21 09:00:00</td>\n",
       "      <td>0.644</td>\n",
       "      <td>0.784194</td>\n",
       "    </tr>\n",
       "    <tr>\n",
       "      <th>46538</th>\n",
       "      <td>2014-03-31 09:00:00</td>\n",
       "      <td>2014</td>\n",
       "      <td>11</td>\n",
       "      <td>C</td>\n",
       "      <td>23.0</td>\n",
       "      <td>2.80</td>\n",
       "      <td>2014-11-21 09:00:00</td>\n",
       "      <td>0.644</td>\n",
       "      <td>0.783116</td>\n",
       "    </tr>\n",
       "    <tr>\n",
       "      <th>46539</th>\n",
       "      <td>2014-03-31 09:00:00</td>\n",
       "      <td>2014</td>\n",
       "      <td>11</td>\n",
       "      <td>C</td>\n",
       "      <td>24.0</td>\n",
       "      <td>2.60</td>\n",
       "      <td>2014-11-21 09:00:00</td>\n",
       "      <td>0.644</td>\n",
       "      <td>0.787200</td>\n",
       "    </tr>\n",
       "    <tr>\n",
       "      <th>46540</th>\n",
       "      <td>2014-03-31 09:00:00</td>\n",
       "      <td>2014</td>\n",
       "      <td>11</td>\n",
       "      <td>C</td>\n",
       "      <td>25.0</td>\n",
       "      <td>2.40</td>\n",
       "      <td>2014-11-21 09:00:00</td>\n",
       "      <td>0.644</td>\n",
       "      <td>0.787899</td>\n",
       "    </tr>\n",
       "    <tr>\n",
       "      <th>46541</th>\n",
       "      <td>2014-03-31 09:00:00</td>\n",
       "      <td>2014</td>\n",
       "      <td>11</td>\n",
       "      <td>C</td>\n",
       "      <td>26.0</td>\n",
       "      <td>2.20</td>\n",
       "      <td>2014-11-21 09:00:00</td>\n",
       "      <td>0.644</td>\n",
       "      <td>0.785411</td>\n",
       "    </tr>\n",
       "    <tr>\n",
       "      <th>46542</th>\n",
       "      <td>2014-03-31 09:00:00</td>\n",
       "      <td>2014</td>\n",
       "      <td>11</td>\n",
       "      <td>C</td>\n",
       "      <td>27.0</td>\n",
       "      <td>2.05</td>\n",
       "      <td>2014-11-21 09:00:00</td>\n",
       "      <td>0.644</td>\n",
       "      <td>0.789241</td>\n",
       "    </tr>\n",
       "    <tr>\n",
       "      <th>46543</th>\n",
       "      <td>2014-03-31 09:00:00</td>\n",
       "      <td>2014</td>\n",
       "      <td>11</td>\n",
       "      <td>C</td>\n",
       "      <td>28.0</td>\n",
       "      <td>1.95</td>\n",
       "      <td>2014-11-21 09:00:00</td>\n",
       "      <td>0.644</td>\n",
       "      <td>0.800016</td>\n",
       "    </tr>\n",
       "    <tr>\n",
       "      <th>46544</th>\n",
       "      <td>2014-03-31 09:00:00</td>\n",
       "      <td>2014</td>\n",
       "      <td>11</td>\n",
       "      <td>C</td>\n",
       "      <td>29.0</td>\n",
       "      <td>1.80</td>\n",
       "      <td>2014-11-21 09:00:00</td>\n",
       "      <td>0.644</td>\n",
       "      <td>0.798958</td>\n",
       "    </tr>\n",
       "    <tr>\n",
       "      <th>46545</th>\n",
       "      <td>2014-03-31 09:00:00</td>\n",
       "      <td>2014</td>\n",
       "      <td>11</td>\n",
       "      <td>C</td>\n",
       "      <td>30.0</td>\n",
       "      <td>1.70</td>\n",
       "      <td>2014-11-21 09:00:00</td>\n",
       "      <td>0.644</td>\n",
       "      <td>0.805459</td>\n",
       "    </tr>\n",
       "    <tr>\n",
       "      <th>46546</th>\n",
       "      <td>2014-03-31 09:00:00</td>\n",
       "      <td>2014</td>\n",
       "      <td>11</td>\n",
       "      <td>C</td>\n",
       "      <td>32.5</td>\n",
       "      <td>1.40</td>\n",
       "      <td>2014-11-21 09:00:00</td>\n",
       "      <td>0.644</td>\n",
       "      <td>0.000000</td>\n",
       "    </tr>\n",
       "    <tr>\n",
       "      <th>46547</th>\n",
       "      <td>2014-03-31 09:00:00</td>\n",
       "      <td>2014</td>\n",
       "      <td>11</td>\n",
       "      <td>C</td>\n",
       "      <td>35.0</td>\n",
       "      <td>1.20</td>\n",
       "      <td>2014-11-21 09:00:00</td>\n",
       "      <td>0.644</td>\n",
       "      <td>0.000000</td>\n",
       "    </tr>\n",
       "    <tr>\n",
       "      <th>46548</th>\n",
       "      <td>2014-03-31 09:00:00</td>\n",
       "      <td>2014</td>\n",
       "      <td>11</td>\n",
       "      <td>C</td>\n",
       "      <td>37.5</td>\n",
       "      <td>1.00</td>\n",
       "      <td>2014-11-21 09:00:00</td>\n",
       "      <td>0.644</td>\n",
       "      <td>0.000000</td>\n",
       "    </tr>\n",
       "    <tr>\n",
       "      <th>46549</th>\n",
       "      <td>2014-03-31 09:00:00</td>\n",
       "      <td>2014</td>\n",
       "      <td>11</td>\n",
       "      <td>C</td>\n",
       "      <td>40.0</td>\n",
       "      <td>0.85</td>\n",
       "      <td>2014-11-21 09:00:00</td>\n",
       "      <td>0.644</td>\n",
       "      <td>0.000000</td>\n",
       "    </tr>\n",
       "    <tr>\n",
       "      <th>46550</th>\n",
       "      <td>2014-03-31 09:00:00</td>\n",
       "      <td>2014</td>\n",
       "      <td>11</td>\n",
       "      <td>C</td>\n",
       "      <td>42.5</td>\n",
       "      <td>0.70</td>\n",
       "      <td>2014-11-21 09:00:00</td>\n",
       "      <td>0.644</td>\n",
       "      <td>0.000000</td>\n",
       "    </tr>\n",
       "    <tr>\n",
       "      <th>46551</th>\n",
       "      <td>2014-03-31 09:00:00</td>\n",
       "      <td>2014</td>\n",
       "      <td>11</td>\n",
       "      <td>C</td>\n",
       "      <td>45.0</td>\n",
       "      <td>0.60</td>\n",
       "      <td>2014-11-21 09:00:00</td>\n",
       "      <td>0.644</td>\n",
       "      <td>0.000000</td>\n",
       "    </tr>\n",
       "    <tr>\n",
       "      <th>46552</th>\n",
       "      <td>2014-03-31 09:00:00</td>\n",
       "      <td>2014</td>\n",
       "      <td>11</td>\n",
       "      <td>C</td>\n",
       "      <td>47.5</td>\n",
       "      <td>0.50</td>\n",
       "      <td>2014-11-21 09:00:00</td>\n",
       "      <td>0.644</td>\n",
       "      <td>0.000000</td>\n",
       "    </tr>\n",
       "    <tr>\n",
       "      <th>46553</th>\n",
       "      <td>2014-03-31 09:00:00</td>\n",
       "      <td>2014</td>\n",
       "      <td>11</td>\n",
       "      <td>C</td>\n",
       "      <td>50.0</td>\n",
       "      <td>0.40</td>\n",
       "      <td>2014-11-21 09:00:00</td>\n",
       "      <td>0.644</td>\n",
       "      <td>0.000000</td>\n",
       "    </tr>\n",
       "    <tr>\n",
       "      <th>46554</th>\n",
       "      <td>2014-03-31 09:00:00</td>\n",
       "      <td>2014</td>\n",
       "      <td>11</td>\n",
       "      <td>C</td>\n",
       "      <td>55.0</td>\n",
       "      <td>0.25</td>\n",
       "      <td>2014-11-21 09:00:00</td>\n",
       "      <td>0.644</td>\n",
       "      <td>0.000000</td>\n",
       "    </tr>\n",
       "    <tr>\n",
       "      <th>46555</th>\n",
       "      <td>2014-03-31 09:00:00</td>\n",
       "      <td>2014</td>\n",
       "      <td>11</td>\n",
       "      <td>C</td>\n",
       "      <td>60.0</td>\n",
       "      <td>0.20</td>\n",
       "      <td>2014-11-21 09:00:00</td>\n",
       "      <td>0.644</td>\n",
       "      <td>0.000000</td>\n",
       "    </tr>\n",
       "    <tr>\n",
       "      <th>46556</th>\n",
       "      <td>2014-03-31 09:00:00</td>\n",
       "      <td>2014</td>\n",
       "      <td>11</td>\n",
       "      <td>C</td>\n",
       "      <td>65.0</td>\n",
       "      <td>0.15</td>\n",
       "      <td>2014-11-21 09:00:00</td>\n",
       "      <td>0.644</td>\n",
       "      <td>0.000000</td>\n",
       "    </tr>\n",
       "    <tr>\n",
       "      <th>46557</th>\n",
       "      <td>2014-03-31 09:00:00</td>\n",
       "      <td>2014</td>\n",
       "      <td>11</td>\n",
       "      <td>C</td>\n",
       "      <td>70.0</td>\n",
       "      <td>0.10</td>\n",
       "      <td>2014-11-21 09:00:00</td>\n",
       "      <td>0.644</td>\n",
       "      <td>0.000000</td>\n",
       "    </tr>\n",
       "    <tr>\n",
       "      <th>46558</th>\n",
       "      <td>2014-03-31 09:00:00</td>\n",
       "      <td>2014</td>\n",
       "      <td>11</td>\n",
       "      <td>C</td>\n",
       "      <td>75.0</td>\n",
       "      <td>0.05</td>\n",
       "      <td>2014-11-21 09:00:00</td>\n",
       "      <td>0.644</td>\n",
       "      <td>0.000000</td>\n",
       "    </tr>\n",
       "    <tr>\n",
       "      <th>46559</th>\n",
       "      <td>2014-03-31 09:00:00</td>\n",
       "      <td>2014</td>\n",
       "      <td>11</td>\n",
       "      <td>C</td>\n",
       "      <td>80.0</td>\n",
       "      <td>0.05</td>\n",
       "      <td>2014-11-21 09:00:00</td>\n",
       "      <td>0.644</td>\n",
       "      <td>0.000000</td>\n",
       "    </tr>\n",
       "    <tr>\n",
       "      <th>46560</th>\n",
       "      <td>2014-03-31 09:00:00</td>\n",
       "      <td>2014</td>\n",
       "      <td>11</td>\n",
       "      <td>C</td>\n",
       "      <td>85.0</td>\n",
       "      <td>0.05</td>\n",
       "      <td>2014-11-21 09:00:00</td>\n",
       "      <td>0.644</td>\n",
       "      <td>0.000000</td>\n",
       "    </tr>\n",
       "    <tr>\n",
       "      <th>46561</th>\n",
       "      <td>2014-03-31 09:00:00</td>\n",
       "      <td>2014</td>\n",
       "      <td>11</td>\n",
       "      <td>C</td>\n",
       "      <td>90.0</td>\n",
       "      <td>0.05</td>\n",
       "      <td>2014-11-21 09:00:00</td>\n",
       "      <td>0.644</td>\n",
       "      <td>0.000000</td>\n",
       "    </tr>\n",
       "    <tr>\n",
       "      <th>46562</th>\n",
       "      <td>2014-03-31 09:00:00</td>\n",
       "      <td>2014</td>\n",
       "      <td>11</td>\n",
       "      <td>C</td>\n",
       "      <td>95.0</td>\n",
       "      <td>0.05</td>\n",
       "      <td>2014-11-21 09:00:00</td>\n",
       "      <td>0.644</td>\n",
       "      <td>0.000000</td>\n",
       "    </tr>\n",
       "    <tr>\n",
       "      <th>46563</th>\n",
       "      <td>2014-03-31 09:00:00</td>\n",
       "      <td>2014</td>\n",
       "      <td>11</td>\n",
       "      <td>C</td>\n",
       "      <td>100.0</td>\n",
       "      <td>0.05</td>\n",
       "      <td>2014-11-21 09:00:00</td>\n",
       "      <td>0.644</td>\n",
       "      <td>0.000000</td>\n",
       "    </tr>\n",
       "    <tr>\n",
       "      <th>46564</th>\n",
       "      <td>2014-03-31 09:00:00</td>\n",
       "      <td>2014</td>\n",
       "      <td>11</td>\n",
       "      <td>C</td>\n",
       "      <td>105.0</td>\n",
       "      <td>0.05</td>\n",
       "      <td>2014-11-21 09:00:00</td>\n",
       "      <td>0.644</td>\n",
       "      <td>0.000000</td>\n",
       "    </tr>\n",
       "  </tbody>\n",
       "</table>\n",
       "<p>395 rows × 9 columns</p>\n",
       "</div>"
      ],
      "text/plain": [
       "                     DATE  EXP_YEAR  EXP_MONTH TYPE  STRIKE  PRICE  \\\n",
       "46170 2014-03-31 09:00:00      2014          4    C     1.0  16.85   \n",
       "46171 2014-03-31 09:00:00      2014          4    C     2.0  15.85   \n",
       "46172 2014-03-31 09:00:00      2014          4    C     3.0  14.85   \n",
       "46173 2014-03-31 09:00:00      2014          4    C     4.0  13.85   \n",
       "46174 2014-03-31 09:00:00      2014          4    C     5.0  12.85   \n",
       "46175 2014-03-31 09:00:00      2014          4    C     6.0  11.85   \n",
       "46176 2014-03-31 09:00:00      2014          4    C     7.0  10.85   \n",
       "46177 2014-03-31 09:00:00      2014          4    C     8.0   9.85   \n",
       "46178 2014-03-31 09:00:00      2014          4    C     9.0   8.85   \n",
       "46179 2014-03-31 09:00:00      2014          4    C    10.0   7.85   \n",
       "46180 2014-03-31 09:00:00      2014          4    C    11.0   6.85   \n",
       "46181 2014-03-31 09:00:00      2014          4    C    12.0   5.85   \n",
       "46182 2014-03-31 09:00:00      2014          4    C    13.0   4.85   \n",
       "46183 2014-03-31 09:00:00      2014          4    C    14.0   3.85   \n",
       "46184 2014-03-31 09:00:00      2014          4    C    15.0   2.90   \n",
       "46185 2014-03-31 09:00:00      2014          4    C    16.0   2.00   \n",
       "46186 2014-03-31 09:00:00      2014          4    C    17.0   1.35   \n",
       "46187 2014-03-31 09:00:00      2014          4    C    18.0   0.95   \n",
       "46188 2014-03-31 09:00:00      2014          4    C    19.0   0.70   \n",
       "46189 2014-03-31 09:00:00      2014          4    C    20.0   0.50   \n",
       "46190 2014-03-31 09:00:00      2014          4    C    21.0   0.40   \n",
       "46191 2014-03-31 09:00:00      2014          4    C    22.0   0.35   \n",
       "46192 2014-03-31 09:00:00      2014          4    C    23.0   0.25   \n",
       "46193 2014-03-31 09:00:00      2014          4    C    24.0   0.25   \n",
       "46194 2014-03-31 09:00:00      2014          4    C    25.0   0.20   \n",
       "46195 2014-03-31 09:00:00      2014          4    C    26.0   0.15   \n",
       "46196 2014-03-31 09:00:00      2014          4    C    27.0   0.15   \n",
       "46197 2014-03-31 09:00:00      2014          4    C    28.0   0.15   \n",
       "46198 2014-03-31 09:00:00      2014          4    C    29.0   0.10   \n",
       "46199 2014-03-31 09:00:00      2014          4    C    30.0   0.10   \n",
       "...                   ...       ...        ...  ...     ...    ...   \n",
       "46535 2014-03-31 09:00:00      2014         11    C    20.0   3.70   \n",
       "46536 2014-03-31 09:00:00      2014         11    C    21.0   3.35   \n",
       "46537 2014-03-31 09:00:00      2014         11    C    22.0   3.05   \n",
       "46538 2014-03-31 09:00:00      2014         11    C    23.0   2.80   \n",
       "46539 2014-03-31 09:00:00      2014         11    C    24.0   2.60   \n",
       "46540 2014-03-31 09:00:00      2014         11    C    25.0   2.40   \n",
       "46541 2014-03-31 09:00:00      2014         11    C    26.0   2.20   \n",
       "46542 2014-03-31 09:00:00      2014         11    C    27.0   2.05   \n",
       "46543 2014-03-31 09:00:00      2014         11    C    28.0   1.95   \n",
       "46544 2014-03-31 09:00:00      2014         11    C    29.0   1.80   \n",
       "46545 2014-03-31 09:00:00      2014         11    C    30.0   1.70   \n",
       "46546 2014-03-31 09:00:00      2014         11    C    32.5   1.40   \n",
       "46547 2014-03-31 09:00:00      2014         11    C    35.0   1.20   \n",
       "46548 2014-03-31 09:00:00      2014         11    C    37.5   1.00   \n",
       "46549 2014-03-31 09:00:00      2014         11    C    40.0   0.85   \n",
       "46550 2014-03-31 09:00:00      2014         11    C    42.5   0.70   \n",
       "46551 2014-03-31 09:00:00      2014         11    C    45.0   0.60   \n",
       "46552 2014-03-31 09:00:00      2014         11    C    47.5   0.50   \n",
       "46553 2014-03-31 09:00:00      2014         11    C    50.0   0.40   \n",
       "46554 2014-03-31 09:00:00      2014         11    C    55.0   0.25   \n",
       "46555 2014-03-31 09:00:00      2014         11    C    60.0   0.20   \n",
       "46556 2014-03-31 09:00:00      2014         11    C    65.0   0.15   \n",
       "46557 2014-03-31 09:00:00      2014         11    C    70.0   0.10   \n",
       "46558 2014-03-31 09:00:00      2014         11    C    75.0   0.05   \n",
       "46559 2014-03-31 09:00:00      2014         11    C    80.0   0.05   \n",
       "46560 2014-03-31 09:00:00      2014         11    C    85.0   0.05   \n",
       "46561 2014-03-31 09:00:00      2014         11    C    90.0   0.05   \n",
       "46562 2014-03-31 09:00:00      2014         11    C    95.0   0.05   \n",
       "46563 2014-03-31 09:00:00      2014         11    C   100.0   0.05   \n",
       "46564 2014-03-31 09:00:00      2014         11    C   105.0   0.05   \n",
       "\n",
       "                 MATURITY    TTM   IMP_VOL  \n",
       "46170 2014-04-18 09:00:00  0.049  0.000000  \n",
       "46171 2014-04-18 09:00:00  0.049  0.000000  \n",
       "46172 2014-04-18 09:00:00  0.049  0.000000  \n",
       "46173 2014-04-18 09:00:00  0.049  0.000000  \n",
       "46174 2014-04-18 09:00:00  0.049  0.000000  \n",
       "46175 2014-04-18 09:00:00  0.049  0.000000  \n",
       "46176 2014-04-18 09:00:00  0.049  0.000000  \n",
       "46177 2014-04-18 09:00:00  0.049  0.000000  \n",
       "46178 2014-04-18 09:00:00  0.049  2.083386  \n",
       "46179 2014-04-18 09:00:00  0.049  1.804194  \n",
       "46180 2014-04-18 09:00:00  0.049  1.550283  \n",
       "46181 2014-04-18 09:00:00  0.049  1.316103  \n",
       "46182 2014-04-18 09:00:00  0.049  1.097184  \n",
       "46183 2014-04-18 09:00:00  0.049  0.889581  \n",
       "46184 2014-04-18 09:00:00  0.049  0.748630  \n",
       "46185 2014-04-18 09:00:00  0.049  0.630958  \n",
       "46186 2014-04-18 09:00:00  0.049  0.639297  \n",
       "46187 2014-04-18 09:00:00  0.049  0.703208  \n",
       "46188 2014-04-18 09:00:00  0.049  0.775629  \n",
       "46189 2014-04-18 09:00:00  0.049  0.818813  \n",
       "46190 2014-04-18 09:00:00  0.049  0.892494  \n",
       "46191 2014-04-18 09:00:00  0.049  0.981551  \n",
       "46192 2014-04-18 09:00:00  0.049  0.995124  \n",
       "46193 2014-04-18 09:00:00  0.049  1.101613  \n",
       "46194 2014-04-18 09:00:00  0.049  1.133795  \n",
       "46195 2014-04-18 09:00:00  0.049  1.144977  \n",
       "46196 2014-04-18 09:00:00  0.049  0.000000  \n",
       "46197 2014-04-18 09:00:00  0.049  0.000000  \n",
       "46198 2014-04-18 09:00:00  0.049  0.000000  \n",
       "46199 2014-04-18 09:00:00  0.049  0.000000  \n",
       "...                   ...    ...       ...  \n",
       "46535 2014-11-21 09:00:00  0.644  0.800333  \n",
       "46536 2014-11-21 09:00:00  0.644  0.790023  \n",
       "46537 2014-11-21 09:00:00  0.644  0.784194  \n",
       "46538 2014-11-21 09:00:00  0.644  0.783116  \n",
       "46539 2014-11-21 09:00:00  0.644  0.787200  \n",
       "46540 2014-11-21 09:00:00  0.644  0.787899  \n",
       "46541 2014-11-21 09:00:00  0.644  0.785411  \n",
       "46542 2014-11-21 09:00:00  0.644  0.789241  \n",
       "46543 2014-11-21 09:00:00  0.644  0.800016  \n",
       "46544 2014-11-21 09:00:00  0.644  0.798958  \n",
       "46545 2014-11-21 09:00:00  0.644  0.805459  \n",
       "46546 2014-11-21 09:00:00  0.644  0.000000  \n",
       "46547 2014-11-21 09:00:00  0.644  0.000000  \n",
       "46548 2014-11-21 09:00:00  0.644  0.000000  \n",
       "46549 2014-11-21 09:00:00  0.644  0.000000  \n",
       "46550 2014-11-21 09:00:00  0.644  0.000000  \n",
       "46551 2014-11-21 09:00:00  0.644  0.000000  \n",
       "46552 2014-11-21 09:00:00  0.644  0.000000  \n",
       "46553 2014-11-21 09:00:00  0.644  0.000000  \n",
       "46554 2014-11-21 09:00:00  0.644  0.000000  \n",
       "46555 2014-11-21 09:00:00  0.644  0.000000  \n",
       "46556 2014-11-21 09:00:00  0.644  0.000000  \n",
       "46557 2014-11-21 09:00:00  0.644  0.000000  \n",
       "46558 2014-11-21 09:00:00  0.644  0.000000  \n",
       "46559 2014-11-21 09:00:00  0.644  0.000000  \n",
       "46560 2014-11-21 09:00:00  0.644  0.000000  \n",
       "46561 2014-11-21 09:00:00  0.644  0.000000  \n",
       "46562 2014-11-21 09:00:00  0.644  0.000000  \n",
       "46563 2014-11-21 09:00:00  0.644  0.000000  \n",
       "46564 2014-11-21 09:00:00  0.644  0.000000  \n",
       "\n",
       "[395 rows x 9 columns]"
      ]
     },
     "execution_count": 12,
     "metadata": {},
     "output_type": "execute_result"
    }
   ],
   "source": [
    "options_data"
   ]
  },
  {
   "cell_type": "code",
   "execution_count": 13,
   "metadata": {},
   "outputs": [
    {
     "data": {
      "text/plain": [
       "496   2014-04-18 09:00:00\n",
       "497   2014-05-16 09:00:00\n",
       "498   2014-06-20 09:00:00\n",
       "499   2014-07-18 09:00:00\n",
       "500   2014-08-15 09:00:00\n",
       "501   2014-09-19 09:00:00\n",
       "502   2014-10-17 09:00:00\n",
       "503   2014-11-21 09:00:00\n",
       "Name: MATURITY, dtype: datetime64[ns]"
      ]
     },
     "execution_count": 13,
     "metadata": {},
     "output_type": "execute_result"
    }
   ],
   "source": [
    "# MATURITY라는 이름을 가진 열을 선택\n",
    "futures_data['MATURITY']"
   ]
  },
  {
   "cell_type": "code",
   "execution_count": 14,
   "metadata": {},
   "outputs": [
    {
     "data": {
      "text/plain": [
       "DATE         2014-03-31 09:00:00\n",
       "EXP_YEAR                    2014\n",
       "EXP_MONTH                      4\n",
       "TYPE                           C\n",
       "STRIKE                         1\n",
       "PRICE                      16.85\n",
       "MATURITY     2014-04-18 09:00:00\n",
       "TTM                        0.049\n",
       "IMP_VOL                        0\n",
       "Name: 46170, dtype: object"
      ]
     },
     "execution_count": 14,
     "metadata": {},
     "output_type": "execute_result"
    }
   ],
   "source": [
    "options_data.loc[46170]"
   ]
  },
  {
   "cell_type": "code",
   "execution_count": 15,
   "metadata": {},
   "outputs": [
    {
     "data": {
      "text/plain": [
       "1.0"
      ]
     },
     "execution_count": 15,
     "metadata": {},
     "output_type": "execute_result"
    }
   ],
   "source": [
    "options_data.loc[46170]['STRIKE']"
   ]
  },
  {
   "cell_type": "code",
   "execution_count": 16,
   "metadata": {},
   "outputs": [],
   "source": [
    "# plot_data = options_data[options_data['IMP_VOL'] < 0] # wrong\n",
    "plot_data = options_data[options_data['IMP_VOL'] > 0] # right\n",
    "\n",
    "# plot_data\n",
    "\n",
    "# options_data['IMP_VOL']\n",
    "# options_data[options_data['IMP_VOL'] > 0]\n",
    "# options_data['IMP_VOL'] > 0"
   ]
  },
  {
   "cell_type": "code",
   "execution_count": 17,
   "metadata": {},
   "outputs": [
    {
     "data": {
      "text/plain": [
       "[Timestamp('2014-04-18 09:00:00'),\n",
       " Timestamp('2014-05-16 09:00:00'),\n",
       " Timestamp('2014-06-20 09:00:00'),\n",
       " Timestamp('2014-07-18 09:00:00'),\n",
       " Timestamp('2014-08-15 09:00:00'),\n",
       " Timestamp('2014-09-19 09:00:00'),\n",
       " Timestamp('2014-10-17 09:00:00'),\n",
       " Timestamp('2014-11-21 09:00:00')]"
      ]
     },
     "execution_count": 17,
     "metadata": {},
     "output_type": "execute_result"
    }
   ],
   "source": [
    "maturities = sorted(set(options_data['MATURITY']))\n",
    "maturities"
   ]
  },
  {
   "cell_type": "code",
   "execution_count": 18,
   "metadata": {},
   "outputs": [
    {
     "data": {
      "image/png": "[encoded data removed]",
      "text/plain": [
       "<Figure size 576x432 with 1 Axes>"
      ]
     },
     "metadata": {
      "needs_background": "light"
     },
     "output_type": "display_data"
    }
   ],
   "source": [
    "# 변동성 스마일을 확인해볼 수 있는 그래프\n",
    "import matplotlib.pyplot as plt\n",
    "%matplotlib inline\n",
    "plt.figure(figsize = (8, 6))\n",
    "for maturity in maturities:\n",
    "    data = plot_data[options_data.MATURITY == maturity]\n",
    "    \n",
    "    # 만기 maturity 값을 가진 자료만 선택\n",
    "    plt.plot(data['STRIKE'], data['IMP_VOL'], label=maturity.date(), lw=1.5)\n",
    "    plt.plot(data['STRIKE'], data['IMP_VOL'], 'r.')\n",
    "plt.grid(True)\n",
    "plt.xlabel('strike')\n",
    "plt.ylabel('implied volatility of volatility')\n",
    "plt.legend()\n",
    "plt.show()"
   ]
  },
  {
   "cell_type": "code",
   "execution_count": 19,
   "metadata": {},
   "outputs": [
    {
     "data": {
      "text/plain": [
       "<pandas.core.groupby.generic.DataFrameGroupBy object at 0x000001A65052D4E0>"
      ]
     },
     "execution_count": 19,
     "metadata": {},
     "output_type": "execute_result"
    }
   ],
   "source": [
    "keep = ['PRICE', 'IMP_VOL']\n",
    "group_data = plot_data.groupby(['MATURITY', 'STRIKE'])[keep]\n",
    "group_data"
   ]
  },
  {
   "cell_type": "code",
   "execution_count": 20,
   "metadata": {},
   "outputs": [
    {
     "data": {
      "text/html": [
       "<div>\n",
       "<style scoped>\n",
       "    .dataframe tbody tr th:only-of-type {\n",
       "        vertical-align: middle;\n",
       "    }\n",
       "\n",
       "    .dataframe tbody tr th {\n",
       "        vertical-align: top;\n",
       "    }\n",
       "\n",
       "    .dataframe thead th {\n",
       "        text-align: right;\n",
       "    }\n",
       "</style>\n",
       "<table border=\"1\" class=\"dataframe\">\n",
       "  <thead>\n",
       "    <tr style=\"text-align: right;\">\n",
       "      <th></th>\n",
       "      <th></th>\n",
       "      <th>PRICE</th>\n",
       "      <th>IMP_VOL</th>\n",
       "    </tr>\n",
       "    <tr>\n",
       "      <th>MATURITY</th>\n",
       "      <th>STRIKE</th>\n",
       "      <th></th>\n",
       "      <th></th>\n",
       "    </tr>\n",
       "  </thead>\n",
       "  <tbody>\n",
       "    <tr>\n",
       "      <th rowspan=\"5\" valign=\"top\">2014-04-18 09:00:00</th>\n",
       "      <th>9.0</th>\n",
       "      <td>8.85</td>\n",
       "      <td>2.083386</td>\n",
       "    </tr>\n",
       "    <tr>\n",
       "      <th>10.0</th>\n",
       "      <td>7.85</td>\n",
       "      <td>1.804194</td>\n",
       "    </tr>\n",
       "    <tr>\n",
       "      <th>11.0</th>\n",
       "      <td>6.85</td>\n",
       "      <td>1.550283</td>\n",
       "    </tr>\n",
       "    <tr>\n",
       "      <th>12.0</th>\n",
       "      <td>5.85</td>\n",
       "      <td>1.316103</td>\n",
       "    </tr>\n",
       "    <tr>\n",
       "      <th>13.0</th>\n",
       "      <td>4.85</td>\n",
       "      <td>1.097184</td>\n",
       "    </tr>\n",
       "  </tbody>\n",
       "</table>\n",
       "</div>"
      ],
      "text/plain": [
       "                            PRICE   IMP_VOL\n",
       "MATURITY            STRIKE                 \n",
       "2014-04-18 09:00:00 9.0      8.85  2.083386\n",
       "                    10.0     7.85  1.804194\n",
       "                    11.0     6.85  1.550283\n",
       "                    12.0     5.85  1.316103\n",
       "                    13.0     4.85  1.097184"
      ]
     },
     "execution_count": 20,
     "metadata": {},
     "output_type": "execute_result"
    }
   ],
   "source": [
    "group_data = group_data.sum()\n",
    "group_data.head()"
   ]
  },
  {
   "cell_type": "code",
   "execution_count": 22,
   "metadata": {},
   "outputs": [
    {
     "data": {
      "text/plain": [
       "FrozenList([[2014-04-18 09:00:00, 2014-05-16 09:00:00, 2014-06-20 09:00:00, 2014-07-18 09:00:00, 2014-08-15 09:00:00, 2014-09-19 09:00:00, 2014-10-17 09:00:00, 2014-11-21 09:00:00], [9.0, 10.0, 11.0, 12.0, 13.0, 14.0, 15.0, 16.0, 17.0, 18.0, 19.0, 20.0, 21.0, 22.0, 23.0, 24.0, 25.0, 26.0, 27.0, 28.0, 29.0, 30.0]])"
      ]
     },
     "execution_count": 22,
     "metadata": {},
     "output_type": "execute_result"
    }
   ],
   "source": [
    "group_data.index.levels"
   ]
  },
  {
   "cell_type": "code",
   "execution_count": 6,
   "metadata": {},
   "outputs": [
    {
     "name": "stdout",
     "output_type": "stream",
     "text": [
      "European Option Value 407.951\n",
      "Duration in Seconds    19.427\n"
     ]
    }
   ],
   "source": [
    "# 순수 python code\n",
    "%run mcs_pure_python.py"
   ]
  },
  {
   "cell_type": "code",
   "execution_count": 2,
   "metadata": {},
   "outputs": [
    {
     "name": "stdout",
     "output_type": "stream",
     "text": [
      "European Option Value   8.018\n",
      "Duration in Secods      0.486\n"
     ]
    }
   ],
   "source": [
    "# numpy을 사용한 code\n",
    "%run mcs_vector_numpy.py"
   ]
  },
  {
   "cell_type": "code",
   "execution_count": 2,
   "metadata": {},
   "outputs": [
    {
     "name": "stdout",
     "output_type": "stream",
     "text": [
      "European Option Value   8.145\n",
      "Duration in Seconds     0.513\n"
     ]
    }
   ],
   "source": [
    "# numpy을 사용한 code\n",
    "%run mcs_full_vector_numpy.py"
   ]
  },
  {
   "cell_type": "code",
   "execution_count": 3,
   "metadata": {},
   "outputs": [
    {
     "data": {
      "text/plain": [
       "Text(0, 0.5, 'index level')"
      ]
     },
     "execution_count": 3,
     "metadata": {},
     "output_type": "execute_result"
    },
    {
     "data": {
      "image/png": "[encoded data removed]",
      "text/plain": [
       "<Figure size 432x288 with 1 Axes>"
      ]
     },
     "metadata": {
      "needs_background": "light"
     },
     "output_type": "display_data"
    }
   ],
   "source": [
    "import matplotlib.pyplot as plt\n",
    "plt.plot(S[:, :10])\n",
    "plt.grid(True)\n",
    "plt.xlabel('time step')\n",
    "plt.ylabel('index level')"
   ]
  },
  {
   "cell_type": "code",
   "execution_count": 6,
   "metadata": {},
   "outputs": [
    {
     "data": {
      "text/plain": [
       "Text(0, 0.5, 'frequency')"
      ]
     },
     "execution_count": 6,
     "metadata": {},
     "output_type": "execute_result"
    },
    {
     "data": {
      "image/png": "[encoded data removed]",
      "text/plain": [
       "<Figure size 432x288 with 1 Axes>"
      ]
     },
     "metadata": {
      "needs_background": "light"
     },
     "output_type": "display_data"
    }
   ],
   "source": [
    "plt.hist(S[-1], bins=50)\n",
    "plt.grid(True)\n",
    "plt.xlabel('index level')\n",
    "plt.ylabel('frequency')"
   ]
  },
  {
   "cell_type": "code",
   "execution_count": 9,
   "metadata": {},
   "outputs": [
    {
     "data": {
      "text/plain": [
       "(0, 50000)"
      ]
     },
     "execution_count": 9,
     "metadata": {},
     "output_type": "execute_result"
    },
    {
     "data": {
      "image/png": "[encoded data removed]",
      "text/plain": [
       "<Figure size 432x288 with 1 Axes>"
      ]
     },
     "metadata": {
      "needs_background": "light"
     },
     "output_type": "display_data"
    }
   ],
   "source": [
    "plt.hist(np.maximum(S[-1] - K, 0), bins=50)\n",
    "plt.grid(True)\n",
    "plt.xlabel('option inner value')\n",
    "plt.ylabel('frequency')\n",
    "plt.ylim(0, 50000)"
   ]
  },
  {
   "cell_type": "code",
   "execution_count": 10,
   "metadata": {},
   "outputs": [
    {
     "data": {
      "text/plain": [
       "133990"
      ]
     },
     "execution_count": 10,
     "metadata": {},
     "output_type": "execute_result"
    }
   ],
   "source": [
    "sum(S[-1] < K)"
   ]
  },
  {
   "cell_type": "markdown",
   "metadata": {},
   "source": [
    "# 3-3 기술적 분석\n",
    "\n",
    "역사적 주가 정보는 웹에서 구하고 주가 추세 신호에 따른 트레이딩 시스템을 간단히 백테스트하는 코드를 구현해본다."
   ]
  },
  {
   "cell_type": "code",
   "execution_count": 4,
   "metadata": {},
   "outputs": [],
   "source": [
    "import numpy as np\n",
    "import pandas as pd\n",
    "from pandas_datareader import data as web\n",
    "import datetime"
   ]
  },
  {
   "cell_type": "code",
   "execution_count": 5,
   "metadata": {},
   "outputs": [
    {
     "name": "stdout",
     "output_type": "stream",
     "text": [
      "<class 'pandas.core.frame.DataFrame'>\n",
      "DatetimeIndex: 3593 entries, 1999-12-31 to 2014-04-14\n",
      "Data columns (total 6 columns):\n",
      "High         3593 non-null float64\n",
      "Low          3593 non-null float64\n",
      "Open         3593 non-null float64\n",
      "Close        3593 non-null float64\n",
      "Volume       3593 non-null float64\n",
      "Adj Close    3593 non-null float64\n",
      "dtypes: float64(6)\n",
      "memory usage: 196.5 KB\n"
     ]
    }
   ],
   "source": [
    "start = datetime.datetime(2000, 1, 1)\n",
    "end = datetime.datetime(2014, 4, 14)\n",
    "\n",
    "SPY = web.DataReader('SPY', 'yahoo', start, end)\n",
    "SPY.info()"
   ]
  },
  {
   "cell_type": "code",
   "execution_count": 6,
   "metadata": {},
   "outputs": [
    {
     "data": {
      "text/plain": [
       "<matplotlib.axes._subplots.AxesSubplot at 0x16c37886b70>"
      ]
     },
     "execution_count": 6,
     "metadata": {},
     "output_type": "execute_result"
    },
    {
     "data": {
      "image/png": "[encoded data removed]",
      "text/plain": [
       "<Figure size 576x360 with 1 Axes>"
      ]
     },
     "metadata": {
      "needs_background": "light"
     },
     "output_type": "display_data"
    }
   ],
   "source": [
    "SPY['Close'].plot(grid=True, figsize=(8, 5))"
   ]
  },
  {
   "cell_type": "markdown",
   "metadata": {},
   "source": [
    "## 추세 시계열 생성하고 시각화"
   ]
  },
  {
   "cell_type": "code",
   "execution_count": 7,
   "metadata": {},
   "outputs": [],
   "source": [
    "SPY['42d'] = np.round(SPY['Close'].rolling(window=42).mean(), 2)\n",
    "SPY['252d'] = np.round(SPY['Close'].rolling(window=252).mean(), 2)"
   ]
  },
  {
   "cell_type": "code",
   "execution_count": 9,
   "metadata": {},
   "outputs": [
    {
     "data": {
      "text/html": [
       "<div>\n",
       "<style scoped>\n",
       "    .dataframe tbody tr th:only-of-type {\n",
       "        vertical-align: middle;\n",
       "    }\n",
       "\n",
       "    .dataframe tbody tr th {\n",
       "        vertical-align: top;\n",
       "    }\n",
       "\n",
       "    .dataframe thead th {\n",
       "        text-align: right;\n",
       "    }\n",
       "</style>\n",
       "<table border=\"1\" class=\"dataframe\">\n",
       "  <thead>\n",
       "    <tr style=\"text-align: right;\">\n",
       "      <th></th>\n",
       "      <th>Close</th>\n",
       "      <th>42d</th>\n",
       "      <th>252d</th>\n",
       "    </tr>\n",
       "    <tr>\n",
       "      <th>Date</th>\n",
       "      <th></th>\n",
       "      <th></th>\n",
       "      <th></th>\n",
       "    </tr>\n",
       "  </thead>\n",
       "  <tbody>\n",
       "    <tr>\n",
       "      <th>2014-04-08</th>\n",
       "      <td>185.100006</td>\n",
       "      <td>185.52</td>\n",
       "      <td>172.97</td>\n",
       "    </tr>\n",
       "    <tr>\n",
       "      <th>2014-04-09</th>\n",
       "      <td>187.089996</td>\n",
       "      <td>185.70</td>\n",
       "      <td>173.08</td>\n",
       "    </tr>\n",
       "    <tr>\n",
       "      <th>2014-04-10</th>\n",
       "      <td>183.160004</td>\n",
       "      <td>185.77</td>\n",
       "      <td>173.18</td>\n",
       "    </tr>\n",
       "    <tr>\n",
       "      <th>2014-04-11</th>\n",
       "      <td>181.509995</td>\n",
       "      <td>185.76</td>\n",
       "      <td>173.27</td>\n",
       "    </tr>\n",
       "    <tr>\n",
       "      <th>2014-04-14</th>\n",
       "      <td>182.940002</td>\n",
       "      <td>185.78</td>\n",
       "      <td>173.38</td>\n",
       "    </tr>\n",
       "  </tbody>\n",
       "</table>\n",
       "</div>"
      ],
      "text/plain": [
       "                 Close     42d    252d\n",
       "Date                                  \n",
       "2014-04-08  185.100006  185.52  172.97\n",
       "2014-04-09  187.089996  185.70  173.08\n",
       "2014-04-10  183.160004  185.77  173.18\n",
       "2014-04-11  181.509995  185.76  173.27\n",
       "2014-04-14  182.940002  185.78  173.38"
      ]
     },
     "execution_count": 9,
     "metadata": {},
     "output_type": "execute_result"
    }
   ],
   "source": [
    "SPY[['Close', '42d', '252d']].tail()"
   ]
  },
  {
   "cell_type": "code",
   "execution_count": 10,
   "metadata": {},
   "outputs": [
    {
     "data": {
      "text/plain": [
       "<matplotlib.axes._subplots.AxesSubplot at 0x16c410f0940>"
      ]
     },
     "execution_count": 10,
     "metadata": {},
     "output_type": "execute_result"
    },
    {
     "data": {
      "image/png": "[encoded data removed]",
      "text/plain": [
       "<Figure size 576x360 with 1 Axes>"
      ]
     },
     "metadata": {
      "needs_background": "light"
     },
     "output_type": "display_data"
    }
   ],
   "source": [
    "SPY[['Close', '42d', '252d']].plot(grid=True, figsize=(8, 5))"
   ]
  },
  {
   "cell_type": "markdown",
   "metadata": {},
   "source": [
    "### 매매 신호 규칙\n",
    "\n",
    "* 매수 신호(주식 매수)  \n",
    " 42일 추세가 252일 추세보다 SD값 만큼 위에 도달하였을 때\n",
    "\n",
    "* 대기 신호(현금 보유)  \n",
    " 42일 추세가 252일 추세의 위 아래 SD값 사이에 있을 때\n",
    "\n",
    "* 매도 신호(주식 공매도)  \n",
    " 42일 추세가 252일 추세보다 SD값 만큼 아래에 도달하였을 때\n",
    "\n",
    "> SD는 신호 임계값(Signal Threshold)의 약어로 사용하고 있다.\n"
   ]
  },
  {
   "cell_type": "code",
   "execution_count": 12,
   "metadata": {},
   "outputs": [
    {
     "data": {
      "text/plain": [
       "Date\n",
       "2014-04-08    12.55\n",
       "2014-04-09    12.62\n",
       "2014-04-10    12.59\n",
       "2014-04-11    12.49\n",
       "2014-04-14    12.40\n",
       "Name: 42-252, dtype: float64"
      ]
     },
     "execution_count": 12,
     "metadata": {},
     "output_type": "execute_result"
    }
   ],
   "source": [
    "SPY['42-252'] = SPY['42d'] - SPY['252d']\n",
    "SPY['42-252'].tail()"
   ]
  },
  {
   "cell_type": "code",
   "execution_count": 13,
   "metadata": {},
   "outputs": [
    {
     "data": {
      "text/plain": [
       "Date\n",
       "1999-12-31   NaN\n",
       "2000-01-03   NaN\n",
       "2000-01-04   NaN\n",
       "2000-01-05   NaN\n",
       "2000-01-06   NaN\n",
       "Name: 42-252, dtype: float64"
      ]
     },
     "execution_count": 13,
     "metadata": {},
     "output_type": "execute_result"
    }
   ],
   "source": [
    "SPY['42-252'].head()"
   ]
  },
  {
   "cell_type": "markdown",
   "metadata": {},
   "source": [
    "### 매매 영역 구하기"
   ]
  },
  {
   "cell_type": "code",
   "execution_count": 14,
   "metadata": {},
   "outputs": [
    {
     "data": {
      "text/plain": [
       " 1    1472\n",
       " 0    1254\n",
       "-1     867\n",
       "Name: Regime, dtype: int64"
      ]
     },
     "execution_count": 14,
     "metadata": {},
     "output_type": "execute_result"
    }
   ],
   "source": [
    "SD = 5\n",
    "SPY['Regime'] = np.where(SPY['42-252'] > SD, 1, 0)\n",
    "SPY['Regime'] = np.where(SPY['42-252'] < -SD, -1, SPY['Regime'])\n",
    "SPY['Regime'].value_counts()\n",
    "\n",
    "# 매매 영역이 나왔다."
   ]
  },
  {
   "cell_type": "code",
   "execution_count": 15,
   "metadata": {},
   "outputs": [
    {
     "data": {
      "text/plain": [
       "(-1.1, 1.1)"
      ]
     },
     "execution_count": 15,
     "metadata": {},
     "output_type": "execute_result"
    },
    {
     "data": {
      "image/png": "[encoded data removed]",
      "text/plain": [
       "<Figure size 432x288 with 1 Axes>"
      ]
     },
     "metadata": {
      "needs_background": "light"
     },
     "output_type": "display_data"
    }
   ],
   "source": [
    "SPY['Regime'].plot(lw=1.5, grid=True)\n",
    "plt.ylim([-1.1, 1.1])"
   ]
  },
  {
   "cell_type": "markdown",
   "metadata": {},
   "source": [
    "## 일간 수익률 계산\n",
    "\n",
    "파이썬으로 수익률을 계산하기 위해 로그 수익률을 구하는 pandas 벡터 연산을 사용한다. 이 때 shift 메서드를 사용하면 시계열을 원하는 만큼 지연시킬 수 있다. 이 경우에는 하루를 지연시켜서 일간 로그 수익률을 계산한다."
   ]
  },
  {
   "cell_type": "code",
   "execution_count": 16,
   "metadata": {},
   "outputs": [],
   "source": [
    "SPY['Market'] = np.log(SPY['Close'] / SPY['Close'].shift(1))"
   ]
  },
  {
   "cell_type": "code",
   "execution_count": 17,
   "metadata": {},
   "outputs": [],
   "source": [
    "SPY['Strategy'] = SPY['Regime'].shift(1) * SPY['Market']"
   ]
  },
  {
   "cell_type": "code",
   "execution_count": 18,
   "metadata": {},
   "outputs": [
    {
     "data": {
      "text/plain": [
       "<matplotlib.axes._subplots.AxesSubplot at 0x16c4134d240>"
      ]
     },
     "execution_count": 18,
     "metadata": {},
     "output_type": "execute_result"
    },
    {
     "data": {
      "image/png": "[encoded data removed]",
      "text/plain": [
       "<Figure size 576x360 with 1 Axes>"
      ]
     },
     "metadata": {
      "needs_background": "light"
     },
     "output_type": "display_data"
    }
   ],
   "source": [
    "SPY[['Market', 'Strategy']].cumsum().apply(np.exp).plot(grid=True, figsize=(8, 5))"
   ]
  },
  {
   "cell_type": "code",
   "execution_count": null,
   "metadata": {},
   "outputs": [],
   "source": []
  }
 ],
 "metadata": {
  "kernelspec": {
   "display_name": "Python 3",
   "language": "python",
   "name": "python3"
  },
  "language_info": {
   "codemirror_mode": {
    "name": "ipython",
    "version": 3
   },
   "file_extension": ".py",
   "mimetype": "text/x-python",
   "name": "python",
   "nbconvert_exporter": "python",
   "pygments_lexer": "ipython3",
   "version": "3.7.3"
  }
 },
 "nbformat": 4,
 "nbformat_minor": 2
}
